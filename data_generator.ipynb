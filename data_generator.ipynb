{
 "cells": [
  {
   "cell_type": "code",
   "execution_count": 1,
   "metadata": {},
   "outputs": [],
   "source": [
    "import pandas as pd\n",
    "import tweepy"
   ]
  },
  {
   "cell_type": "code",
   "execution_count": 2,
   "metadata": {},
   "outputs": [],
   "source": [
    "#input consumer key here\n",
    "\n",
    "consumer_key = '***************************' \n",
    "consumer_secret = '*********************************'\n",
    "access_token = '***************************************'\n",
    "access_token_secret = '**************************************'"
   ]
  },
  {
   "cell_type": "code",
   "execution_count": 3,
   "metadata": {},
   "outputs": [],
   "source": [
    "auth = tweepy.OAuthHandler(consumer_key, consumer_secret)\n",
    "auth.set_access_token(access_token, access_token_secret)\n",
    "\n",
    "api = tweepy.API(auth, wait_on_rate_limit=True)   #wait on Rate-Limit!"
   ]
  },
  {
   "cell_type": "code",
   "execution_count": 4,
   "metadata": {},
   "outputs": [],
   "source": [
    "#we define a function here to stream data\n",
    "\n",
    "def get_related_tweets(key_word):\n",
    "    twitter_users = []\n",
    "    tweet_time = []\n",
    "    tweet_string = []\n",
    "    tweet_location = []\n",
    "    retweet_count = []\n",
    "    for tweet in tweepy.Cursor(api.search,q=key_word,count=1000,geocode='6.48939,3.37709,80km',tweet_mode='extended',include_entities=True).items(1000): #geocode here is for Lagos raduis, while count must not exceed 1000 so as not to exceed twitter limit\n",
    "            if (not tweet.retweeted) and ('RT @' not in tweet.full_text):\n",
    "                if tweet.lang == \"en\":   #english only      \n",
    "                    twitter_users.append(tweet.user.name)\n",
    "                    tweet_time.append(tweet.created_at)\n",
    "                    tweet_string.append(tweet.full_text)\n",
    "                    tweet_location.append(tweet.user.location)\n",
    "                    retweet_count.append(tweet.retweet_count)\n",
    "                    #print([tweet.user.name,tweet.created_at,tweet.text])\n",
    "    df = pd.DataFrame({'name':twitter_users, 'time': tweet_time, 'tweet': tweet_string, 'place':tweet_location, 'retweet-count':retweet_count})\n",
    "    #df.to_csv(f\"{key_word}.csv\")\n",
    "    return df"
   ]
  },
  {
   "cell_type": "code",
   "execution_count": 5,
   "metadata": {},
   "outputs": [],
   "source": [
    "from twisted.internet import task, reactor\n",
    "from datetime import datetime\n",
    "\n",
    "timeout = 900   #15 minutes\n",
    "\n",
    "def get_data():\n",
    "    #do work here\n",
    "    df1 = get_related_tweets('*')\n",
    "    df2 = get_related_tweets('*')\n",
    "    hold = pd.concat([df1,df2])\n",
    "    hold.to_csv('./Data/df_{}.csv'.format(datetime.now().second))\n",
    "    \n",
    "l = task.LoopingCall(get_data)\n",
    "l.start(timeout) # call every 15 minutes\n",
    "\n",
    "reactor.run()"
   ]
  },
  {
   "cell_type": "code",
   "execution_count": null,
   "metadata": {},
   "outputs": [],
   "source": []
  }
 ],
 "metadata": {
  "kernelspec": {
   "display_name": "Python [conda env:dsr] *",
   "language": "python",
   "name": "conda-env-dsr-py"
  },
  "language_info": {
   "codemirror_mode": {
    "name": "ipython",
    "version": 3
   },
   "file_extension": ".py",
   "mimetype": "text/x-python",
   "name": "python",
   "nbconvert_exporter": "python",
   "pygments_lexer": "ipython3",
   "version": "3.6.9"
  }
 },
 "nbformat": 4,
 "nbformat_minor": 4
}
